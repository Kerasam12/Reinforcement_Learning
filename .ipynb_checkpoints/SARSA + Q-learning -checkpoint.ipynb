{
 "cells": [
  {
   "cell_type": "code",
   "execution_count": 1,
   "id": "c7ef1d16",
   "metadata": {},
   "outputs": [],
   "source": [
    "import gymnasium as gym\n",
    "import numpy as np \n",
    "import matplotlib.pyplot as plt"
   ]
  },
  {
   "cell_type": "code",
   "execution_count": 2,
   "id": "18a8f64d",
   "metadata": {},
   "outputs": [],
   "source": [
    "env = gym.make(\"Blackjack-v1\", natural = True , sab = False )"
   ]
  },
  {
   "cell_type": "code",
   "execution_count": 3,
   "id": "9c76e618",
   "metadata": {},
   "outputs": [
    {
     "name": "stdout",
     "output_type": "stream",
     "text": [
      "ACTION SPACE:\n",
      " Discrete(2) : HIT or STICK\n",
      "\n",
      "OBSERVATION SPACE:\n",
      " Tuple(Discrete(32), Discrete(11), Discrete(2)) : user_sum, dealer_card, if_usable_ace_of_user\n"
     ]
    }
   ],
   "source": [
    "print(\"ACTION SPACE:\\n\",env.action_space, \": HIT or STICK\\n\")\n",
    "print(\"OBSERVATION SPACE:\\n\",env.observation_space, \": user_sum, dealer_card, if_usable_ace_of_user\")"
   ]
  },
  {
   "cell_type": "code",
   "execution_count": 176,
   "id": "96a6999a",
   "metadata": {},
   "outputs": [],
   "source": [
    "class SARSA_Agent():\n",
    "    def __init__(self,env):\n",
    "        self.env = env\n",
    "        #self.Returns = collections.defaultdict(list)\n",
    "        self.possible_user_sum = self.env.observation_space[0].n\n",
    "        self.possible_dealer_sum = self.env.observation_space[1].n\n",
    "        self.usable_ace = self.env.observation_space[2].n\n",
    "        self.possible_actions = self.env.action_space.n\n",
    "        self.Q = np.zeros((self.possible_user_sum, self.possible_dealer_sum, self.usable_ace, self.possible_actions))\n",
    "        self.policy = np.ones((self.possible_user_sum, self.possible_dealer_sum, self.usable_ace, self.possible_actions))/2\n",
    "        \n",
    "        \n",
    "    def update_Q(self,state, action,reward, new_state,new_action, discount,gamma):\n",
    "        self.Q[state[0],state[1],state[2], action] += discount*(reward + (gamma*self.Q[new_state[0],new_state[1],new_state[2], new_action]) - self.Q[state[0],state[1],state[2], action])\n",
    "        \n",
    "    def epsilon_greedy_policy(self,state,epsilon):\n",
    "        '''total_probs = np.ones((self.possible_user_sum, self.possible_dealer_sum, self.usable_ace, self.possible_actions))/2\n",
    "        for pu in range(self.possible_user_sum):\n",
    "            for pd in range(self.possible_dealer_sum):\n",
    "                for a in range(self.usable_ace):'''\n",
    "        probs = (np.ones(self.possible_actions) * epsilon) / self.possible_actions\n",
    "        best_action = np.argmax(self.Q[state[0]][state[1]][state[2]])\n",
    "        probs[best_action] += 1.0 - epsilon\n",
    "        #total_probs[pu][pd][a] = probs\n",
    "        self.policy[state[0],state[1],state[2]] = probs"
   ]
  },
  {
   "cell_type": "code",
   "execution_count": 333,
   "id": "605345a0",
   "metadata": {},
   "outputs": [],
   "source": [
    "def train_SARSA(env,agent,num_steps, epsilon, gamma, discount):\n",
    "    state,_ = env.reset()\n",
    "    action =  np.random.choice(range(len(agent.policy[state[0],state[1],state[2]])), p = agent.policy[state[0],state[1],state[2]])\n",
    "    EPS = []\n",
    "    total_reward = 0\n",
    "    terminated = False\n",
    "    truncated = False\n",
    "    for i in range(num_steps): \n",
    "        new_state, reward, terminated, truncated,_ = env.step(action)\n",
    "        agent.epsilon_greedy_policy(state,epsilon)\n",
    "        new_action = np.random.choice(range(len(agent.policy[new_state[0],new_state[1],new_state[2]])), p = agent.policy[new_state[0],new_state[1],new_state[2]])\n",
    "        \n",
    "        agent.update_Q(state, action,reward, new_state,new_action, discount,gamma)\n",
    "        \n",
    "        #EPS.append((obs,action,reward))\n",
    "        #total_reward += reward\n",
    "        #print(agent.policy[new_state[0],new_state[1],new_state[2]])\n",
    "        \n",
    "        state = new_state\n",
    "        action = new_action\n",
    "        \n",
    "        if terminated or truncated:\n",
    "            state,_ = env.reset()\n",
    "            #action =  np.random.choice(range(len(agent.policy[state[0],state[1],state[2]])), p = agent.policy[state[0],state[1],state[2]])\n",
    "            terminated = False\n",
    "            truncated = False\n",
    "        if i%100000 == 0:\n",
    "            print(i)\n",
    "    return agent"
   ]
  },
  {
   "cell_type": "code",
   "execution_count": 342,
   "id": "c262ef5b",
   "metadata": {},
   "outputs": [],
   "source": [
    "env.reset()\n",
    "first_agent = SARSA_Agent(env)\n",
    "num_steps = 2000000\n",
    "epsilon = 0.1\n",
    "discount = 0.2\n",
    "gamma = 0.7"
   ]
  },
  {
   "cell_type": "code",
   "execution_count": 343,
   "id": "5ce277d7",
   "metadata": {},
   "outputs": [
    {
     "name": "stdout",
     "output_type": "stream",
     "text": [
      "0\n",
      "100000\n",
      "200000\n",
      "300000\n",
      "400000\n",
      "500000\n",
      "600000\n",
      "700000\n",
      "800000\n",
      "900000\n",
      "1000000\n",
      "1100000\n",
      "1200000\n",
      "1300000\n",
      "1400000\n",
      "1500000\n",
      "1600000\n",
      "1700000\n",
      "1800000\n",
      "1900000\n"
     ]
    }
   ],
   "source": [
    "SARSA_agent = train_SARSA(env,first_agent,num_steps, epsilon, gamma, discount)"
   ]
  },
  {
   "cell_type": "code",
   "execution_count": 396,
   "id": "1368a92d",
   "metadata": {},
   "outputs": [],
   "source": [
    "def run_episode(env,agent):\n",
    "    num_plays = 100000\n",
    "\n",
    "    total_reward = 0 \n",
    "    wins = 0\n",
    "    natural_wins = 0\n",
    "    draws = 0 \n",
    "    loses = 0\n",
    "    \n",
    "\n",
    "    terminated = False\n",
    "    truncated = False\n",
    "\n",
    "    for ply in range(num_plays):\n",
    "\n",
    "        state,_ = env.reset()\n",
    "        action = np.argmax(agent.policy[state[0],state[1],state[2]]) \n",
    "\n",
    "        while not terminated or truncated:\n",
    "            new_state, reward, terminated, truncated,_ = env.step(action)\n",
    "\n",
    "            total_reward += reward\n",
    "            action = np.argmax(agent.Q[new_state[0],new_state[1],new_state[2]])\n",
    "\n",
    "        if reward == 1:\n",
    "            wins += 1\n",
    "        elif reward == 1.5:\n",
    "            natural_wins += 1\n",
    "        elif reward == -1:\n",
    "            loses += 1\n",
    "        elif reward == 0 and (terminated or truncated):\n",
    "            draws += 1 \n",
    "        \n",
    "                \n",
    "        terminated = False\n",
    "        truncated = False\n",
    "\n",
    "    print(\"total_reward:\", total_reward)\n",
    "    print(\"num_wins:\", (wins/num_plays)*100,\"%\")\n",
    "    print(\"num_natural_wins:\",(natural_wins/num_plays)*100,\"%\")\n",
    "    print(\"num loses:\", (loses/num_plays)*100,\"%\")\n",
    "    print(\"num_draws:\", (draws/num_plays)*100,\"%\")\n",
    "    print(\"other:\",other/num_plays)\n",
    "    print(\"total_played:\", wins+loses+natural_wins + draws)"
   ]
  },
  {
   "cell_type": "code",
   "execution_count": 397,
   "id": "ec89cd6f",
   "metadata": {},
   "outputs": [
    {
     "name": "stdout",
     "output_type": "stream",
     "text": [
      "total_reward: -8508.5\n",
      "num_wins: 36.313 %\n",
      "num_natural_wins: 4.151 %\n",
      "num loses: 51.048 %\n",
      "num_draws: 8.488 %\n",
      "other: 0.0\n",
      "total_played: 100000\n"
     ]
    }
   ],
   "source": [
    "run_episode(env,SARSA_agent)"
   ]
  },
  {
   "cell_type": "code",
   "execution_count": 219,
   "id": "9148b125",
   "metadata": {},
   "outputs": [],
   "source": [
    "pol = SARSA_agent.policy"
   ]
  },
  {
   "cell_type": "code",
   "execution_count": 220,
   "id": "007e9807",
   "metadata": {},
   "outputs": [],
   "source": [
    "not_use_ace= np.zeros((pol.shape[0],pol.shape[1]))\n",
    "not_use_ace_deal = np.zeros((pol.shape[0],pol.shape[1]))\n",
    "\n",
    "usable_ace= np.zeros((pol.shape[0],pol.shape[1]))\n",
    "usable_ace_deal = []\n",
    "\n",
    "for usr_sum in range(pol.shape[0]):\n",
    "    for deal_sum in range(pol.shape[1]):\n",
    "        for a in range(pol.shape[2]):\n",
    "            if a == 0:\n",
    "                #print(np.argmax(pol[usr_sum,deal_sum,a]))\n",
    "                not_use_ace[usr_sum][deal_sum] = np.argmax(pol[usr_sum,deal_sum,a])\n",
    "                #not_use_ace.append(np.max(pol[usr_sum,deal_sum,a]))\n",
    "            elif a == 1:\n",
    "                usable_ace[usr_sum][deal_sum] = np.argmax(pol[usr_sum,deal_sum,a])\n",
    "                #usable_ace.append(np.max(pol[usr_sum,deal_sum,a]))"
   ]
  },
  {
   "cell_type": "code",
   "execution_count": 221,
   "id": "140122e9",
   "metadata": {},
   "outputs": [],
   "source": [
    "import matplotlib.pyplot as plt\n",
    "import numpy as np\n",
    "\n",
    "from matplotlib.colors import BoundaryNorm\n",
    "from matplotlib.ticker import MaxNLocator\n",
    "from numpy import meshgrid"
   ]
  },
  {
   "cell_type": "code",
   "execution_count": 222,
   "id": "ecc2d15f",
   "metadata": {},
   "outputs": [
    {
     "data": {
      "text/plain": [
       "array([[0., 0., 0., 0., 0., 0., 0., 0., 0., 0., 0.],\n",
       "       [0., 0., 0., 0., 0., 0., 0., 0., 0., 0., 0.],\n",
       "       [0., 0., 0., 0., 0., 0., 0., 0., 0., 0., 0.],\n",
       "       [0., 0., 0., 0., 0., 0., 0., 0., 0., 0., 0.],\n",
       "       [0., 1., 1., 1., 0., 0., 0., 1., 1., 1., 1.],\n",
       "       [0., 1., 0., 1., 0., 1., 0., 0., 1., 1., 1.],\n",
       "       [0., 1., 1., 0., 1., 1., 0., 1., 0., 1., 1.],\n",
       "       [0., 1., 0., 0., 0., 1., 0., 1., 1., 1., 1.],\n",
       "       [0., 1., 1., 0., 0., 0., 0., 0., 1., 1., 0.],\n",
       "       [0., 1., 1., 1., 1., 1., 0., 1., 1., 0., 1.],\n",
       "       [0., 1., 1., 1., 0., 1., 0., 1., 1., 1., 1.],\n",
       "       [0., 0., 1., 0., 1., 0., 1., 1., 1., 1., 1.],\n",
       "       [0., 1., 0., 1., 1., 1., 1., 1., 0., 1., 1.],\n",
       "       [0., 1., 1., 0., 1., 1., 0., 1., 1., 0., 1.],\n",
       "       [0., 1., 0., 0., 0., 1., 1., 1., 1., 1., 1.],\n",
       "       [0., 1., 0., 0., 1., 1., 1., 1., 1., 1., 1.],\n",
       "       [0., 1., 1., 1., 1., 1., 1., 1., 0., 1., 1.],\n",
       "       [0., 1., 1., 0., 1., 1., 0., 1., 1., 1., 1.],\n",
       "       [0., 1., 0., 0., 0., 0., 0., 0., 1., 1., 1.],\n",
       "       [0., 0., 0., 0., 0., 0., 0., 0., 0., 0., 0.],\n",
       "       [0., 0., 0., 0., 0., 0., 0., 0., 0., 0., 0.],\n",
       "       [0., 0., 0., 0., 0., 0., 0., 0., 0., 0., 0.],\n",
       "       [0., 0., 0., 0., 0., 0., 0., 0., 0., 0., 0.],\n",
       "       [0., 0., 0., 0., 0., 0., 0., 0., 0., 0., 0.],\n",
       "       [0., 0., 0., 0., 0., 0., 0., 0., 0., 0., 0.],\n",
       "       [0., 0., 0., 0., 0., 0., 0., 0., 0., 0., 0.],\n",
       "       [0., 0., 0., 0., 0., 0., 0., 0., 0., 0., 0.],\n",
       "       [0., 0., 0., 0., 0., 0., 0., 0., 0., 0., 0.],\n",
       "       [0., 0., 0., 0., 0., 0., 0., 0., 0., 0., 0.],\n",
       "       [0., 0., 0., 0., 0., 0., 0., 0., 0., 0., 0.],\n",
       "       [0., 0., 0., 0., 0., 0., 0., 0., 0., 0., 0.],\n",
       "       [0., 0., 0., 0., 0., 0., 0., 0., 0., 0., 0.]])"
      ]
     },
     "execution_count": 222,
     "metadata": {},
     "output_type": "execute_result"
    }
   ],
   "source": [
    "not_use_ace"
   ]
  },
  {
   "cell_type": "code",
   "execution_count": 223,
   "id": "cd5657a8",
   "metadata": {},
   "outputs": [
    {
     "name": "stdout",
     "output_type": "stream",
     "text": [
      "[ 0  1  2  3  4  5  6  7  8  9 10 11 12 13 14 15 16 17 18 19 20 21 22 23\n",
      " 24 25 26 27 28 29 30 31]\n"
     ]
    },
    {
     "data": {
      "text/plain": [
       "<matplotlib.collections.QuadMesh at 0x7fa39a6a3190>"
      ]
     },
     "execution_count": 223,
     "metadata": {},
     "output_type": "execute_result"
    },
    {
     "data": {
      "image/png": "[encoded data removed]",
      "text/plain": [
       "<Figure size 640x480 with 1 Axes>"
      ]
     },
     "metadata": {},
     "output_type": "display_data"
    }
   ],
   "source": [
    "Z = not_use_ace\n",
    "x = np.arange(pol.shape[0])  # \n",
    "print(x)\n",
    "y = np.arange(pol.shape[1])  # \n",
    "Y,X = meshgrid(y,x)\n",
    "\n",
    "fig, ax = plt.subplots()\n",
    "ax.pcolormesh(Y,X, Z, vmin=np.min(Z), vmax=np.max(Z), shading = \"auto\")"
   ]
  },
  {
   "cell_type": "code",
   "execution_count": 224,
   "id": "a4a3818e",
   "metadata": {},
   "outputs": [
    {
     "name": "stdout",
     "output_type": "stream",
     "text": [
      "[ 0  1  2  3  4  5  6  7  8  9 10 11 12 13 14 15 16 17 18 19 20 21 22 23\n",
      " 24 25 26 27 28 29 30 31]\n"
     ]
    },
    {
     "data": {
      "text/plain": [
       "<matplotlib.collections.QuadMesh at 0x7fa39a4913f0>"
      ]
     },
     "execution_count": 224,
     "metadata": {},
     "output_type": "execute_result"
    },
    {
     "data": {
      "image/png": "[encoded data removed]",
      "text/plain": [
       "<Figure size 640x480 with 1 Axes>"
      ]
     },
     "metadata": {},
     "output_type": "display_data"
    }
   ],
   "source": [
    "Z1 = usable_ace\n",
    "x = np.arange(pol.shape[0])  # \n",
    "print(x)\n",
    "y = np.arange(pol.shape[1])  # \n",
    "\n",
    "fig, ax = plt.subplots()\n",
    "ax.pcolormesh(y, x, Z1, vmin=np.min(Z), vmax=np.max(Z), shading = \"auto\")"
   ]
  },
  {
   "cell_type": "code",
   "execution_count": 216,
   "id": "65cf85ec",
   "metadata": {},
   "outputs": [
    {
     "data": {
      "text/plain": [
       "False"
      ]
     },
     "execution_count": 216,
     "metadata": {},
     "output_type": "execute_result"
    }
   ],
   "source": [
    "np.all(SARSA_agent.Q == 0)"
   ]
  },
  {
   "cell_type": "code",
   "execution_count": 168,
   "id": "441fa209",
   "metadata": {},
   "outputs": [],
   "source": [
    "from mpl_toolkits.axes_grid1 import make_axes_locatable\n",
    "from mpl_toolkits.mplot3d import Axes3D\n",
    "def plot_policy(policy):\n",
    "\n",
    "    def get_Z(player_hand, dealer_showing, usable_ace):\n",
    "        print(policy[player_hand, dealer_showing, usable_ace])\n",
    "        if np.all(policy[player_hand, dealer_showing, usable_ace]) != 0.5:\n",
    "            return policy[player_hand, dealer_showing, usable_ace]\n",
    "        else:\n",
    "            return 1\n",
    "\n",
    "    def get_figure(usable_ace, ax):\n",
    "        x_range = np.arange(1, 11)\n",
    "        y_range = np.arange(11, 22)\n",
    "        X, Y = np.meshgrid(x_range, y_range)\n",
    "        Z = np.array([[get_Z(player_hand, dealer_showing, usable_ace) for dealer_showing in x_range] for player_hand in range(21, 10, -1)])\n",
    "        #print(Z)\n",
    "        surf = ax.imshow(Z, cmap=plt.get_cmap('Accent', 2), vmin=0, vmax=1, extent=[0.5, 10.5, 10.5, 21.5])\n",
    "        plt.xticks(x_range, ('A', '2', '3', '4', '5', '6', '7', '8', '9', '10'))\n",
    "        plt.yticks(y_range)\n",
    "        ax.set_xlabel('Dealer Showing')\n",
    "        ax.set_ylabel('Player Hand')\n",
    "        ax.grid(color='black', linestyle='-', linewidth=1)\n",
    "        divider = make_axes_locatable(ax)\n",
    "        cax = divider.append_axes(\"right\", size=\"5%\", pad=0.1)\n",
    "        cbar = plt.colorbar(surf, ticks=[0, 1], cax=cax)\n",
    "        cbar.ax.set_yticklabels(['0 (STICK)','1 (HIT)'])\n",
    "        cbar.ax.invert_yaxis() \n",
    "            \n",
    "    fig = plt.figure(figsize=(12, 12))\n",
    "    ax = fig.add_subplot(121)\n",
    "    ax.set_title('Usable Ace', fontsize=16)\n",
    "    get_figure(1, ax)\n",
    "    ax = fig.add_subplot(122)\n",
    "    ax.set_title('No Usable Ace', fontsize=16)\n",
    "    get_figure(0, ax)\n",
    "    plt.show()"
   ]
  },
  {
   "cell_type": "code",
   "execution_count": 169,
   "id": "c98d3b3a",
   "metadata": {},
   "outputs": [
    {
     "name": "stdout",
     "output_type": "stream",
     "text": [
      "[0.95 0.05]\n",
      "[0.95 0.05]\n",
      "[0.95 0.05]\n",
      "[0.95 0.05]\n",
      "[0.95 0.05]\n",
      "[0.95 0.05]\n",
      "[0.95 0.05]\n",
      "[0.95 0.05]\n",
      "[0.95 0.05]\n",
      "[0.95 0.05]\n",
      "[0.95 0.05]\n",
      "[0.95 0.05]\n",
      "[0.95 0.05]\n",
      "[0.95 0.05]\n",
      "[0.95 0.05]\n",
      "[0.95 0.05]\n",
      "[0.95 0.05]\n",
      "[0.95 0.05]\n",
      "[0.95 0.05]\n",
      "[0.95 0.05]\n",
      "[0.05 0.95]\n",
      "[0.95 0.05]\n",
      "[0.95 0.05]\n",
      "[0.95 0.05]\n",
      "[0.95 0.05]\n",
      "[0.95 0.05]\n",
      "[0.95 0.05]\n",
      "[0.95 0.05]\n",
      "[0.95 0.05]\n",
      "[0.05 0.95]\n",
      "[0.05 0.95]\n",
      "[0.95 0.05]\n",
      "[0.95 0.05]\n",
      "[0.05 0.95]\n",
      "[0.95 0.05]\n",
      "[0.05 0.95]\n",
      "[0.95 0.05]\n",
      "[0.95 0.05]\n",
      "[0.05 0.95]\n",
      "[0.05 0.95]\n",
      "[0.05 0.95]\n",
      "[0.05 0.95]\n",
      "[0.95 0.05]\n",
      "[0.05 0.95]\n",
      "[0.05 0.95]\n",
      "[0.05 0.95]\n",
      "[0.05 0.95]\n",
      "[0.05 0.95]\n",
      "[0.05 0.95]\n",
      "[0.05 0.95]\n",
      "[0.05 0.95]\n",
      "[0.05 0.95]\n",
      "[0.05 0.95]\n",
      "[0.05 0.95]\n",
      "[0.05 0.95]\n",
      "[0.05 0.95]\n",
      "[0.05 0.95]\n",
      "[0.05 0.95]\n",
      "[0.05 0.95]\n",
      "[0.05 0.95]\n",
      "[0.05 0.95]\n",
      "[0.05 0.95]\n",
      "[0.05 0.95]\n",
      "[0.05 0.95]\n",
      "[0.05 0.95]\n",
      "[0.05 0.95]\n",
      "[0.05 0.95]\n",
      "[0.05 0.95]\n",
      "[0.05 0.95]\n",
      "[0.05 0.95]\n",
      "[0.05 0.95]\n",
      "[0.05 0.95]\n",
      "[0.05 0.95]\n",
      "[0.05 0.95]\n",
      "[0.05 0.95]\n",
      "[0.05 0.95]\n",
      "[0.05 0.95]\n",
      "[0.05 0.95]\n",
      "[0.05 0.95]\n",
      "[0.05 0.95]\n",
      "[0.05 0.95]\n",
      "[0.05 0.95]\n",
      "[0.05 0.95]\n",
      "[0.05 0.95]\n",
      "[0.05 0.95]\n",
      "[0.05 0.95]\n",
      "[0.05 0.95]\n",
      "[0.05 0.95]\n",
      "[0.05 0.95]\n",
      "[0.05 0.95]\n",
      "[0.05 0.95]\n",
      "[0.05 0.95]\n",
      "[0.05 0.95]\n",
      "[0.05 0.95]\n",
      "[0.05 0.95]\n",
      "[0.05 0.95]\n",
      "[0.05 0.95]\n",
      "[0.05 0.95]\n",
      "[0.05 0.95]\n",
      "[0.05 0.95]\n",
      "[0.5 0.5]\n",
      "[0.5 0.5]\n",
      "[0.5 0.5]\n",
      "[0.5 0.5]\n",
      "[0.5 0.5]\n",
      "[0.5 0.5]\n",
      "[0.5 0.5]\n",
      "[0.5 0.5]\n",
      "[0.5 0.5]\n",
      "[0.5 0.5]\n"
     ]
    },
    {
     "ename": "TypeError",
     "evalue": "Invalid shape (11, 10, 2) for image data",
     "output_type": "error",
     "traceback": [
      "\u001b[0;31m---------------------------------------------------------------------------\u001b[0m",
      "\u001b[0;31mTypeError\u001b[0m                                 Traceback (most recent call last)",
      "Cell \u001b[0;32mIn[169], line 1\u001b[0m\n\u001b[0;32m----> 1\u001b[0m \u001b[43mplot_policy\u001b[49m\u001b[43m(\u001b[49m\u001b[43mpol\u001b[49m\u001b[43m)\u001b[49m\n",
      "Cell \u001b[0;32mIn[168], line 33\u001b[0m, in \u001b[0;36mplot_policy\u001b[0;34m(policy)\u001b[0m\n\u001b[1;32m     31\u001b[0m ax \u001b[38;5;241m=\u001b[39m fig\u001b[38;5;241m.\u001b[39madd_subplot(\u001b[38;5;241m121\u001b[39m)\n\u001b[1;32m     32\u001b[0m ax\u001b[38;5;241m.\u001b[39mset_title(\u001b[38;5;124m'\u001b[39m\u001b[38;5;124mUsable Ace\u001b[39m\u001b[38;5;124m'\u001b[39m, fontsize\u001b[38;5;241m=\u001b[39m\u001b[38;5;241m16\u001b[39m)\n\u001b[0;32m---> 33\u001b[0m \u001b[43mget_figure\u001b[49m\u001b[43m(\u001b[49m\u001b[38;5;241;43m1\u001b[39;49m\u001b[43m,\u001b[49m\u001b[43m \u001b[49m\u001b[43max\u001b[49m\u001b[43m)\u001b[49m\n\u001b[1;32m     34\u001b[0m ax \u001b[38;5;241m=\u001b[39m fig\u001b[38;5;241m.\u001b[39madd_subplot(\u001b[38;5;241m122\u001b[39m)\n\u001b[1;32m     35\u001b[0m ax\u001b[38;5;241m.\u001b[39mset_title(\u001b[38;5;124m'\u001b[39m\u001b[38;5;124mNo Usable Ace\u001b[39m\u001b[38;5;124m'\u001b[39m, fontsize\u001b[38;5;241m=\u001b[39m\u001b[38;5;241m16\u001b[39m)\n",
      "Cell \u001b[0;32mIn[168], line 18\u001b[0m, in \u001b[0;36mplot_policy.<locals>.get_figure\u001b[0;34m(usable_ace, ax)\u001b[0m\n\u001b[1;32m     16\u001b[0m Z \u001b[38;5;241m=\u001b[39m np\u001b[38;5;241m.\u001b[39marray([[get_Z(player_hand, dealer_showing, usable_ace) \u001b[38;5;28;01mfor\u001b[39;00m dealer_showing \u001b[38;5;129;01min\u001b[39;00m x_range] \u001b[38;5;28;01mfor\u001b[39;00m player_hand \u001b[38;5;129;01min\u001b[39;00m \u001b[38;5;28mrange\u001b[39m(\u001b[38;5;241m21\u001b[39m, \u001b[38;5;241m10\u001b[39m, \u001b[38;5;241m-\u001b[39m\u001b[38;5;241m1\u001b[39m)])\n\u001b[1;32m     17\u001b[0m \u001b[38;5;66;03m#print(Z)\u001b[39;00m\n\u001b[0;32m---> 18\u001b[0m surf \u001b[38;5;241m=\u001b[39m \u001b[43max\u001b[49m\u001b[38;5;241;43m.\u001b[39;49m\u001b[43mimshow\u001b[49m\u001b[43m(\u001b[49m\u001b[43mZ\u001b[49m\u001b[43m,\u001b[49m\u001b[43m \u001b[49m\u001b[43mcmap\u001b[49m\u001b[38;5;241;43m=\u001b[39;49m\u001b[43mplt\u001b[49m\u001b[38;5;241;43m.\u001b[39;49m\u001b[43mget_cmap\u001b[49m\u001b[43m(\u001b[49m\u001b[38;5;124;43m'\u001b[39;49m\u001b[38;5;124;43mAccent\u001b[39;49m\u001b[38;5;124;43m'\u001b[39;49m\u001b[43m,\u001b[49m\u001b[43m \u001b[49m\u001b[38;5;241;43m2\u001b[39;49m\u001b[43m)\u001b[49m\u001b[43m,\u001b[49m\u001b[43m \u001b[49m\u001b[43mvmin\u001b[49m\u001b[38;5;241;43m=\u001b[39;49m\u001b[38;5;241;43m0\u001b[39;49m\u001b[43m,\u001b[49m\u001b[43m \u001b[49m\u001b[43mvmax\u001b[49m\u001b[38;5;241;43m=\u001b[39;49m\u001b[38;5;241;43m1\u001b[39;49m\u001b[43m,\u001b[49m\u001b[43m \u001b[49m\u001b[43mextent\u001b[49m\u001b[38;5;241;43m=\u001b[39;49m\u001b[43m[\u001b[49m\u001b[38;5;241;43m0.5\u001b[39;49m\u001b[43m,\u001b[49m\u001b[43m \u001b[49m\u001b[38;5;241;43m10.5\u001b[39;49m\u001b[43m,\u001b[49m\u001b[43m \u001b[49m\u001b[38;5;241;43m10.5\u001b[39;49m\u001b[43m,\u001b[49m\u001b[43m \u001b[49m\u001b[38;5;241;43m21.5\u001b[39;49m\u001b[43m]\u001b[49m\u001b[43m)\u001b[49m\n\u001b[1;32m     19\u001b[0m plt\u001b[38;5;241m.\u001b[39mxticks(x_range, (\u001b[38;5;124m'\u001b[39m\u001b[38;5;124mA\u001b[39m\u001b[38;5;124m'\u001b[39m, \u001b[38;5;124m'\u001b[39m\u001b[38;5;124m2\u001b[39m\u001b[38;5;124m'\u001b[39m, \u001b[38;5;124m'\u001b[39m\u001b[38;5;124m3\u001b[39m\u001b[38;5;124m'\u001b[39m, \u001b[38;5;124m'\u001b[39m\u001b[38;5;124m4\u001b[39m\u001b[38;5;124m'\u001b[39m, \u001b[38;5;124m'\u001b[39m\u001b[38;5;124m5\u001b[39m\u001b[38;5;124m'\u001b[39m, \u001b[38;5;124m'\u001b[39m\u001b[38;5;124m6\u001b[39m\u001b[38;5;124m'\u001b[39m, \u001b[38;5;124m'\u001b[39m\u001b[38;5;124m7\u001b[39m\u001b[38;5;124m'\u001b[39m, \u001b[38;5;124m'\u001b[39m\u001b[38;5;124m8\u001b[39m\u001b[38;5;124m'\u001b[39m, \u001b[38;5;124m'\u001b[39m\u001b[38;5;124m9\u001b[39m\u001b[38;5;124m'\u001b[39m, \u001b[38;5;124m'\u001b[39m\u001b[38;5;124m10\u001b[39m\u001b[38;5;124m'\u001b[39m))\n\u001b[1;32m     20\u001b[0m plt\u001b[38;5;241m.\u001b[39myticks(y_range)\n",
      "File \u001b[0;32m~/anaconda3/lib/python3.10/site-packages/matplotlib/__init__.py:1442\u001b[0m, in \u001b[0;36m_preprocess_data.<locals>.inner\u001b[0;34m(ax, data, *args, **kwargs)\u001b[0m\n\u001b[1;32m   1439\u001b[0m \u001b[38;5;129m@functools\u001b[39m\u001b[38;5;241m.\u001b[39mwraps(func)\n\u001b[1;32m   1440\u001b[0m \u001b[38;5;28;01mdef\u001b[39;00m \u001b[38;5;21minner\u001b[39m(ax, \u001b[38;5;241m*\u001b[39margs, data\u001b[38;5;241m=\u001b[39m\u001b[38;5;28;01mNone\u001b[39;00m, \u001b[38;5;241m*\u001b[39m\u001b[38;5;241m*\u001b[39mkwargs):\n\u001b[1;32m   1441\u001b[0m     \u001b[38;5;28;01mif\u001b[39;00m data \u001b[38;5;129;01mis\u001b[39;00m \u001b[38;5;28;01mNone\u001b[39;00m:\n\u001b[0;32m-> 1442\u001b[0m         \u001b[38;5;28;01mreturn\u001b[39;00m \u001b[43mfunc\u001b[49m\u001b[43m(\u001b[49m\u001b[43max\u001b[49m\u001b[43m,\u001b[49m\u001b[43m \u001b[49m\u001b[38;5;241;43m*\u001b[39;49m\u001b[38;5;28;43mmap\u001b[39;49m\u001b[43m(\u001b[49m\u001b[43msanitize_sequence\u001b[49m\u001b[43m,\u001b[49m\u001b[43m \u001b[49m\u001b[43margs\u001b[49m\u001b[43m)\u001b[49m\u001b[43m,\u001b[49m\u001b[43m \u001b[49m\u001b[38;5;241;43m*\u001b[39;49m\u001b[38;5;241;43m*\u001b[39;49m\u001b[43mkwargs\u001b[49m\u001b[43m)\u001b[49m\n\u001b[1;32m   1444\u001b[0m     bound \u001b[38;5;241m=\u001b[39m new_sig\u001b[38;5;241m.\u001b[39mbind(ax, \u001b[38;5;241m*\u001b[39margs, \u001b[38;5;241m*\u001b[39m\u001b[38;5;241m*\u001b[39mkwargs)\n\u001b[1;32m   1445\u001b[0m     auto_label \u001b[38;5;241m=\u001b[39m (bound\u001b[38;5;241m.\u001b[39marguments\u001b[38;5;241m.\u001b[39mget(label_namer)\n\u001b[1;32m   1446\u001b[0m                   \u001b[38;5;129;01mor\u001b[39;00m bound\u001b[38;5;241m.\u001b[39mkwargs\u001b[38;5;241m.\u001b[39mget(label_namer))\n",
      "File \u001b[0;32m~/anaconda3/lib/python3.10/site-packages/matplotlib/axes/_axes.py:5665\u001b[0m, in \u001b[0;36mAxes.imshow\u001b[0;34m(self, X, cmap, norm, aspect, interpolation, alpha, vmin, vmax, origin, extent, interpolation_stage, filternorm, filterrad, resample, url, **kwargs)\u001b[0m\n\u001b[1;32m   5657\u001b[0m \u001b[38;5;28mself\u001b[39m\u001b[38;5;241m.\u001b[39mset_aspect(aspect)\n\u001b[1;32m   5658\u001b[0m im \u001b[38;5;241m=\u001b[39m mimage\u001b[38;5;241m.\u001b[39mAxesImage(\u001b[38;5;28mself\u001b[39m, cmap\u001b[38;5;241m=\u001b[39mcmap, norm\u001b[38;5;241m=\u001b[39mnorm,\n\u001b[1;32m   5659\u001b[0m                       interpolation\u001b[38;5;241m=\u001b[39minterpolation, origin\u001b[38;5;241m=\u001b[39morigin,\n\u001b[1;32m   5660\u001b[0m                       extent\u001b[38;5;241m=\u001b[39mextent, filternorm\u001b[38;5;241m=\u001b[39mfilternorm,\n\u001b[1;32m   5661\u001b[0m                       filterrad\u001b[38;5;241m=\u001b[39mfilterrad, resample\u001b[38;5;241m=\u001b[39mresample,\n\u001b[1;32m   5662\u001b[0m                       interpolation_stage\u001b[38;5;241m=\u001b[39minterpolation_stage,\n\u001b[1;32m   5663\u001b[0m                       \u001b[38;5;241m*\u001b[39m\u001b[38;5;241m*\u001b[39mkwargs)\n\u001b[0;32m-> 5665\u001b[0m \u001b[43mim\u001b[49m\u001b[38;5;241;43m.\u001b[39;49m\u001b[43mset_data\u001b[49m\u001b[43m(\u001b[49m\u001b[43mX\u001b[49m\u001b[43m)\u001b[49m\n\u001b[1;32m   5666\u001b[0m im\u001b[38;5;241m.\u001b[39mset_alpha(alpha)\n\u001b[1;32m   5667\u001b[0m \u001b[38;5;28;01mif\u001b[39;00m im\u001b[38;5;241m.\u001b[39mget_clip_path() \u001b[38;5;129;01mis\u001b[39;00m \u001b[38;5;28;01mNone\u001b[39;00m:\n\u001b[1;32m   5668\u001b[0m     \u001b[38;5;66;03m# image does not already have clipping set, clip to axes patch\u001b[39;00m\n",
      "File \u001b[0;32m~/anaconda3/lib/python3.10/site-packages/matplotlib/image.py:710\u001b[0m, in \u001b[0;36m_ImageBase.set_data\u001b[0;34m(self, A)\u001b[0m\n\u001b[1;32m    706\u001b[0m     \u001b[38;5;28mself\u001b[39m\u001b[38;5;241m.\u001b[39m_A \u001b[38;5;241m=\u001b[39m \u001b[38;5;28mself\u001b[39m\u001b[38;5;241m.\u001b[39m_A[:, :, \u001b[38;5;241m0\u001b[39m]\n\u001b[1;32m    708\u001b[0m \u001b[38;5;28;01mif\u001b[39;00m \u001b[38;5;129;01mnot\u001b[39;00m (\u001b[38;5;28mself\u001b[39m\u001b[38;5;241m.\u001b[39m_A\u001b[38;5;241m.\u001b[39mndim \u001b[38;5;241m==\u001b[39m \u001b[38;5;241m2\u001b[39m\n\u001b[1;32m    709\u001b[0m         \u001b[38;5;129;01mor\u001b[39;00m \u001b[38;5;28mself\u001b[39m\u001b[38;5;241m.\u001b[39m_A\u001b[38;5;241m.\u001b[39mndim \u001b[38;5;241m==\u001b[39m \u001b[38;5;241m3\u001b[39m \u001b[38;5;129;01mand\u001b[39;00m \u001b[38;5;28mself\u001b[39m\u001b[38;5;241m.\u001b[39m_A\u001b[38;5;241m.\u001b[39mshape[\u001b[38;5;241m-\u001b[39m\u001b[38;5;241m1\u001b[39m] \u001b[38;5;129;01min\u001b[39;00m [\u001b[38;5;241m3\u001b[39m, \u001b[38;5;241m4\u001b[39m]):\n\u001b[0;32m--> 710\u001b[0m     \u001b[38;5;28;01mraise\u001b[39;00m \u001b[38;5;167;01mTypeError\u001b[39;00m(\u001b[38;5;124m\"\u001b[39m\u001b[38;5;124mInvalid shape \u001b[39m\u001b[38;5;132;01m{}\u001b[39;00m\u001b[38;5;124m for image data\u001b[39m\u001b[38;5;124m\"\u001b[39m\n\u001b[1;32m    711\u001b[0m                     \u001b[38;5;241m.\u001b[39mformat(\u001b[38;5;28mself\u001b[39m\u001b[38;5;241m.\u001b[39m_A\u001b[38;5;241m.\u001b[39mshape))\n\u001b[1;32m    713\u001b[0m \u001b[38;5;28;01mif\u001b[39;00m \u001b[38;5;28mself\u001b[39m\u001b[38;5;241m.\u001b[39m_A\u001b[38;5;241m.\u001b[39mndim \u001b[38;5;241m==\u001b[39m \u001b[38;5;241m3\u001b[39m:\n\u001b[1;32m    714\u001b[0m     \u001b[38;5;66;03m# If the input data has values outside the valid range (after\u001b[39;00m\n\u001b[1;32m    715\u001b[0m     \u001b[38;5;66;03m# normalisation), we issue a warning and then clip X to the bounds\u001b[39;00m\n\u001b[1;32m    716\u001b[0m     \u001b[38;5;66;03m# - otherwise casting wraps extreme values, hiding outliers and\u001b[39;00m\n\u001b[1;32m    717\u001b[0m     \u001b[38;5;66;03m# making reliable interpretation impossible.\u001b[39;00m\n\u001b[1;32m    718\u001b[0m     high \u001b[38;5;241m=\u001b[39m \u001b[38;5;241m255\u001b[39m \u001b[38;5;28;01mif\u001b[39;00m np\u001b[38;5;241m.\u001b[39missubdtype(\u001b[38;5;28mself\u001b[39m\u001b[38;5;241m.\u001b[39m_A\u001b[38;5;241m.\u001b[39mdtype, np\u001b[38;5;241m.\u001b[39minteger) \u001b[38;5;28;01melse\u001b[39;00m \u001b[38;5;241m1\u001b[39m\n",
      "\u001b[0;31mTypeError\u001b[0m: Invalid shape (11, 10, 2) for image data"
     ]
    },
    {
     "data": {
      "image/png": "[encoded data removed]",
      "text/plain": [
       "<Figure size 1200x1200 with 1 Axes>"
      ]
     },
     "metadata": {},
     "output_type": "display_data"
    }
   ],
   "source": [
    "plot_policy(pol)"
   ]
  },
  {
   "cell_type": "code",
   "execution_count": 377,
   "id": "abbc0761",
   "metadata": {},
   "outputs": [],
   "source": [
    "class QLearn_Agent():\n",
    "    def __init__(self,env):\n",
    "        self.env = env\n",
    "        #self.Returns = collections.defaultdict(list)\n",
    "        self.possible_user_sum = self.env.observation_space[0].n\n",
    "        self.possible_dealer_sum = self.env.observation_space[1].n\n",
    "        self.usable_ace = self.env.observation_space[2].n\n",
    "        self.possible_actions = self.env.action_space.n\n",
    "        self.Q = np.random.rand(self.possible_user_sum, self.possible_dealer_sum, self.usable_ace, self.possible_actions)\n",
    "        self.policy = np.ones((self.possible_user_sum, self.possible_dealer_sum, self.usable_ace, self.possible_actions))/2\n",
    "        \n",
    "        \n",
    "    def update_Q(self,state, action,reward, new_state,new_action, discount,gamma):\n",
    "        self.Q[state[0],state[1],state[2], action] += discount*(reward + ((gamma*np.max(self.Q[new_state[0],new_state[1],new_state[2]])) - self.Q[state[0],state[1],state[2], action]))\n",
    "        \n",
    "    def epsilon_greedy_policy(self,state,epsilon):\n",
    "        '''total_probs = np.ones((self.possible_user_sum, self.possible_dealer_sum, self.usable_ace, self.possible_actions))/2\n",
    "        for pu in range(self.possible_user_sum):\n",
    "            for pd in range(self.possible_dealer_sum):\n",
    "                for a in range(self.usable_ace):'''\n",
    "        probs = (np.ones(self.possible_actions) * epsilon) / self.possible_actions\n",
    "        best_action = np.argmax(self.Q[state[0]][state[1]][state[2]])\n",
    "        probs[best_action] += 1.0 - epsilon\n",
    "        #total_probs[pu][pd][a] = probs\n",
    "        self.policy[state[0],state[1],state[2]] = probs"
   ]
  },
  {
   "cell_type": "code",
   "execution_count": 378,
   "id": "513c891c",
   "metadata": {},
   "outputs": [],
   "source": [
    "def train_QLearn(env,agent,num_steps, epsilon, gamma, discount):\n",
    "    #state,_ = env.reset()\n",
    "    #action =  np.random.choice(range(len(agent.policy[state[0],state[1],state[2]])), p = agent.policy[state[0],state[1],state[2]])\n",
    "   \n",
    "    total_reward = 0\n",
    "    #terminated = False\n",
    "    #truncated = False\n",
    "    for i in range(num_steps): \n",
    "        state,_ = env.reset()\n",
    "        action =  np.random.choice(range(len(agent.policy[state[0],state[1],state[2]])), p = agent.policy[state[0],state[1],state[2]])\n",
    "        terminated = False\n",
    "        truncated = False\n",
    "            \n",
    "        while not terminated or truncated:\n",
    "            agent.epsilon_greedy_policy(state,epsilon)\n",
    "            new_state, reward, terminated, truncated,_ = env.step(action)\n",
    "\n",
    "            new_action = np.random.choice(range(len(agent.policy[new_state[0],new_state[1],new_state[2]])), p = agent.policy[new_state[0],new_state[1],new_state[2]])\n",
    "\n",
    "            agent.update_Q(state, action,reward, new_state,new_action, discount,gamma)\n",
    "            \n",
    "\n",
    "\n",
    "\n",
    "\n",
    "            #EPS.append((obs,action,reward))\n",
    "            #total_reward += reward\n",
    "            #print(agent.policy[new_state[0],new_state[1],new_state[2]])\n",
    "\n",
    "            state = new_state\n",
    "            action = new_action\n",
    "        \n",
    "        if i%100000 == 0:\n",
    "            print(i)\n",
    "    return agent"
   ]
  },
  {
   "cell_type": "code",
   "execution_count": 379,
   "id": "be9e38d6",
   "metadata": {},
   "outputs": [],
   "source": [
    "QL_agent = QLearn_Agent(env)\n",
    "num_steps = 500000\n",
    "epsilon = 0.1\n",
    "gamma = 0.95\n",
    "alpha = 0.1"
   ]
  },
  {
   "cell_type": "code",
   "execution_count": 380,
   "id": "ac0b86da",
   "metadata": {},
   "outputs": [
    {
     "name": "stdout",
     "output_type": "stream",
     "text": [
      "0\n",
      "100000\n",
      "200000\n",
      "300000\n",
      "400000\n"
     ]
    }
   ],
   "source": [
    "QLearn_agent = train_QLearn(env,QL_agent,num_steps, epsilon, gamma, alpha)"
   ]
  },
  {
   "cell_type": "code",
   "execution_count": 382,
   "id": "1fbc88e7",
   "metadata": {},
   "outputs": [
    {
     "data": {
      "text/plain": [
       "array([[[[0.77867337, 0.76442432],\n",
       "         [0.46095422, 0.35459684]],\n",
       "\n",
       "        [[0.03980527, 0.56358162],\n",
       "         [0.31206989, 0.22069973]],\n",
       "\n",
       "        [[0.33972415, 0.90210906],\n",
       "         [0.22613231, 0.8598179 ]],\n",
       "\n",
       "        ...,\n",
       "\n",
       "        [[0.1096644 , 0.94074335],\n",
       "         [0.70081481, 0.74257044]],\n",
       "\n",
       "        [[0.92833898, 0.94122571],\n",
       "         [0.84804082, 0.92124375]],\n",
       "\n",
       "        [[0.76873148, 0.80360965],\n",
       "         [0.85187529, 0.30009819]]],\n",
       "\n",
       "\n",
       "       [[[0.1751793 , 0.97971153],\n",
       "         [0.32643968, 0.93449119]],\n",
       "\n",
       "        [[0.28621154, 0.10071771],\n",
       "         [0.58472143, 0.10188848]],\n",
       "\n",
       "        [[0.06935996, 0.21779971],\n",
       "         [0.06936254, 0.09323381]],\n",
       "\n",
       "        ...,\n",
       "\n",
       "        [[0.03929902, 0.64433402],\n",
       "         [0.34278076, 0.2051934 ]],\n",
       "\n",
       "        [[0.33374445, 0.79051469],\n",
       "         [0.78043744, 0.1037491 ]],\n",
       "\n",
       "        [[0.88889074, 0.6885499 ],\n",
       "         [0.64355237, 0.70576533]]],\n",
       "\n",
       "\n",
       "       [[[0.37467274, 0.27670177],\n",
       "         [0.62087739, 0.14430659]],\n",
       "\n",
       "        [[0.13239593, 0.98614365],\n",
       "         [0.14292288, 0.36187253]],\n",
       "\n",
       "        [[0.39978413, 0.36143656],\n",
       "         [0.36640832, 0.72446825]],\n",
       "\n",
       "        ...,\n",
       "\n",
       "        [[0.87910179, 0.0027811 ],\n",
       "         [0.82014223, 0.23277977]],\n",
       "\n",
       "        [[0.76085685, 0.03457502],\n",
       "         [0.51178008, 0.54589215]],\n",
       "\n",
       "        [[0.90983464, 0.6155084 ],\n",
       "         [0.18206922, 0.38872895]]],\n",
       "\n",
       "\n",
       "       ...,\n",
       "\n",
       "\n",
       "       [[[0.54253944, 0.65736094],\n",
       "         [0.56522345, 0.07264215]],\n",
       "\n",
       "        [[0.33692021, 0.50073667],\n",
       "         [0.13663099, 0.3680483 ]],\n",
       "\n",
       "        [[0.60469485, 0.33567624],\n",
       "         [0.96134832, 0.41847722]],\n",
       "\n",
       "        ...,\n",
       "\n",
       "        [[0.63531049, 0.06346054],\n",
       "         [0.13140353, 0.58627259]],\n",
       "\n",
       "        [[0.69686152, 0.86166495],\n",
       "         [0.4283969 , 0.30985152]],\n",
       "\n",
       "        [[0.17313498, 0.34999711],\n",
       "         [0.65462576, 0.08088557]]],\n",
       "\n",
       "\n",
       "       [[[0.25931414, 0.34398361],\n",
       "         [0.59941087, 0.564911  ]],\n",
       "\n",
       "        [[0.90317707, 0.41716132],\n",
       "         [0.45205625, 0.71324809]],\n",
       "\n",
       "        [[0.51922746, 0.24440285],\n",
       "         [0.02004119, 0.99033495]],\n",
       "\n",
       "        ...,\n",
       "\n",
       "        [[0.37206737, 0.29025166],\n",
       "         [0.3067916 , 0.15096367]],\n",
       "\n",
       "        [[0.25536061, 0.18225766],\n",
       "         [0.97443501, 0.11278348]],\n",
       "\n",
       "        [[0.68120367, 0.73127861],\n",
       "         [0.06437605, 0.029788  ]]],\n",
       "\n",
       "\n",
       "       [[[0.08154311, 0.16665855],\n",
       "         [0.04226379, 0.01707755]],\n",
       "\n",
       "        [[0.67576298, 0.4085846 ],\n",
       "         [0.4087883 , 0.73440435]],\n",
       "\n",
       "        [[0.37285077, 0.1805991 ],\n",
       "         [0.95088108, 0.98763054]],\n",
       "\n",
       "        ...,\n",
       "\n",
       "        [[0.9587089 , 0.99253651],\n",
       "         [0.12611346, 0.64472291]],\n",
       "\n",
       "        [[0.39898084, 0.72294531],\n",
       "         [0.99780717, 0.43465598]],\n",
       "\n",
       "        [[0.18466681, 0.32481928],\n",
       "         [0.40519114, 0.21551836]]]])"
      ]
     },
     "execution_count": 382,
     "metadata": {},
     "output_type": "execute_result"
    }
   ],
   "source": [
    "QLearn_agent.Q"
   ]
  },
  {
   "cell_type": "code",
   "execution_count": 320,
   "id": "39548bc6",
   "metadata": {},
   "outputs": [
    {
     "data": {
      "text/plain": [
       "array([[[[0.5, 0.5],\n",
       "         [0.5, 0.5]],\n",
       "\n",
       "        [[0.5, 0.5],\n",
       "         [0.5, 0.5]],\n",
       "\n",
       "        [[0.5, 0.5],\n",
       "         [0.5, 0.5]],\n",
       "\n",
       "        ...,\n",
       "\n",
       "        [[0.5, 0.5],\n",
       "         [0.5, 0.5]],\n",
       "\n",
       "        [[0.5, 0.5],\n",
       "         [0.5, 0.5]],\n",
       "\n",
       "        [[0.5, 0.5],\n",
       "         [0.5, 0.5]]],\n",
       "\n",
       "\n",
       "       [[[0.5, 0.5],\n",
       "         [0.5, 0.5]],\n",
       "\n",
       "        [[0.5, 0.5],\n",
       "         [0.5, 0.5]],\n",
       "\n",
       "        [[0.5, 0.5],\n",
       "         [0.5, 0.5]],\n",
       "\n",
       "        ...,\n",
       "\n",
       "        [[0.5, 0.5],\n",
       "         [0.5, 0.5]],\n",
       "\n",
       "        [[0.5, 0.5],\n",
       "         [0.5, 0.5]],\n",
       "\n",
       "        [[0.5, 0.5],\n",
       "         [0.5, 0.5]]],\n",
       "\n",
       "\n",
       "       [[[0.5, 0.5],\n",
       "         [0.5, 0.5]],\n",
       "\n",
       "        [[0.5, 0.5],\n",
       "         [0.5, 0.5]],\n",
       "\n",
       "        [[0.5, 0.5],\n",
       "         [0.5, 0.5]],\n",
       "\n",
       "        ...,\n",
       "\n",
       "        [[0.5, 0.5],\n",
       "         [0.5, 0.5]],\n",
       "\n",
       "        [[0.5, 0.5],\n",
       "         [0.5, 0.5]],\n",
       "\n",
       "        [[0.5, 0.5],\n",
       "         [0.5, 0.5]]],\n",
       "\n",
       "\n",
       "       ...,\n",
       "\n",
       "\n",
       "       [[[0.5, 0.5],\n",
       "         [0.5, 0.5]],\n",
       "\n",
       "        [[0.5, 0.5],\n",
       "         [0.5, 0.5]],\n",
       "\n",
       "        [[0.5, 0.5],\n",
       "         [0.5, 0.5]],\n",
       "\n",
       "        ...,\n",
       "\n",
       "        [[0.5, 0.5],\n",
       "         [0.5, 0.5]],\n",
       "\n",
       "        [[0.5, 0.5],\n",
       "         [0.5, 0.5]],\n",
       "\n",
       "        [[0.5, 0.5],\n",
       "         [0.5, 0.5]]],\n",
       "\n",
       "\n",
       "       [[[0.5, 0.5],\n",
       "         [0.5, 0.5]],\n",
       "\n",
       "        [[0.5, 0.5],\n",
       "         [0.5, 0.5]],\n",
       "\n",
       "        [[0.5, 0.5],\n",
       "         [0.5, 0.5]],\n",
       "\n",
       "        ...,\n",
       "\n",
       "        [[0.5, 0.5],\n",
       "         [0.5, 0.5]],\n",
       "\n",
       "        [[0.5, 0.5],\n",
       "         [0.5, 0.5]],\n",
       "\n",
       "        [[0.5, 0.5],\n",
       "         [0.5, 0.5]]],\n",
       "\n",
       "\n",
       "       [[[0.5, 0.5],\n",
       "         [0.5, 0.5]],\n",
       "\n",
       "        [[0.5, 0.5],\n",
       "         [0.5, 0.5]],\n",
       "\n",
       "        [[0.5, 0.5],\n",
       "         [0.5, 0.5]],\n",
       "\n",
       "        ...,\n",
       "\n",
       "        [[0.5, 0.5],\n",
       "         [0.5, 0.5]],\n",
       "\n",
       "        [[0.5, 0.5],\n",
       "         [0.5, 0.5]],\n",
       "\n",
       "        [[0.5, 0.5],\n",
       "         [0.5, 0.5]]]])"
      ]
     },
     "execution_count": 320,
     "metadata": {},
     "output_type": "execute_result"
    }
   ],
   "source": [
    "pol_QL =QLearn_agent.policy \n",
    "pol_QL"
   ]
  },
  {
   "cell_type": "code",
   "execution_count": 308,
   "id": "72cab7bb",
   "metadata": {},
   "outputs": [],
   "source": [
    "not_use_ace= np.zeros((pol_QL.shape[0],pol_QL.shape[1]))\n",
    "not_use_ace_deal = np.zeros((pol_QL.shape[0],pol_QL.shape[1]))\n",
    "\n",
    "usable_ace= np.zeros((pol_QL.shape[0],pol_QL.shape[1]))\n",
    "usable_ace_deal = []\n",
    "\n",
    "for usr_sum in range(pol_QL.shape[0]):\n",
    "    for deal_sum in range(pol_QL.shape[1]):\n",
    "        for a in range(pol_QL.shape[2]):\n",
    "            if a == 0:\n",
    "                #print(np.argmax(pol[usr_sum,deal_sum,a]))\n",
    "                not_use_ace[usr_sum][deal_sum] = np.argmax(pol_QL[usr_sum,deal_sum,a])\n",
    "                #not_use_ace.append(np.max(pol[usr_sum,deal_sum,a]))\n",
    "            elif a == 1:\n",
    "                usable_ace[usr_sum][deal_sum] = np.argmax(pol_QL[usr_sum,deal_sum,a])\n",
    "                #usable_ace.append(np.max(pol[usr_sum,deal_sum,a]))"
   ]
  },
  {
   "cell_type": "code",
   "execution_count": 309,
   "id": "e027a12a",
   "metadata": {},
   "outputs": [
    {
     "data": {
      "text/plain": [
       "array([[0., 0., 0., 0., 0., 0., 0., 0., 0., 0., 0.],\n",
       "       [0., 0., 0., 0., 0., 0., 0., 0., 0., 0., 0.],\n",
       "       [0., 0., 0., 0., 0., 0., 0., 0., 0., 0., 0.],\n",
       "       [0., 0., 0., 0., 0., 0., 0., 0., 0., 0., 0.],\n",
       "       [0., 1., 1., 1., 1., 1., 1., 1., 1., 1., 1.],\n",
       "       [0., 1., 1., 1., 1., 1., 1., 1., 1., 1., 1.],\n",
       "       [0., 1., 1., 1., 1., 1., 1., 1., 1., 1., 1.],\n",
       "       [0., 1., 1., 1., 1., 1., 1., 1., 1., 1., 1.],\n",
       "       [0., 1., 1., 1., 1., 1., 1., 1., 1., 1., 1.],\n",
       "       [0., 1., 1., 0., 1., 1., 1., 1., 1., 1., 0.],\n",
       "       [0., 1., 1., 1., 1., 0., 1., 1., 1., 1., 1.],\n",
       "       [0., 1., 1., 1., 0., 1., 1., 1., 1., 1., 1.],\n",
       "       [0., 1., 0., 0., 1., 1., 1., 1., 1., 1., 1.],\n",
       "       [0., 1., 1., 0., 1., 0., 1., 1., 1., 1., 1.],\n",
       "       [0., 1., 0., 1., 1., 1., 1., 1., 1., 1., 1.],\n",
       "       [0., 1., 0., 1., 1., 0., 0., 1., 1., 1., 0.],\n",
       "       [0., 1., 0., 1., 1., 1., 0., 0., 1., 1., 1.],\n",
       "       [0., 1., 0., 0., 0., 1., 1., 1., 0., 1., 1.],\n",
       "       [0., 1., 0., 0., 0., 0., 0., 0., 1., 0., 1.],\n",
       "       [0., 0., 0., 0., 0., 0., 0., 0., 0., 0., 1.],\n",
       "       [0., 0., 0., 0., 0., 0., 0., 0., 0., 0., 0.],\n",
       "       [0., 0., 0., 0., 0., 0., 0., 0., 0., 0., 0.],\n",
       "       [0., 0., 0., 0., 0., 0., 0., 0., 0., 0., 0.],\n",
       "       [0., 0., 0., 0., 0., 0., 0., 0., 0., 0., 0.],\n",
       "       [0., 0., 0., 0., 0., 0., 0., 0., 0., 0., 0.],\n",
       "       [0., 0., 0., 0., 0., 0., 0., 0., 0., 0., 0.],\n",
       "       [0., 0., 0., 0., 0., 0., 0., 0., 0., 0., 0.],\n",
       "       [0., 0., 0., 0., 0., 0., 0., 0., 0., 0., 0.],\n",
       "       [0., 0., 0., 0., 0., 0., 0., 0., 0., 0., 0.],\n",
       "       [0., 0., 0., 0., 0., 0., 0., 0., 0., 0., 0.],\n",
       "       [0., 0., 0., 0., 0., 0., 0., 0., 0., 0., 0.],\n",
       "       [0., 0., 0., 0., 0., 0., 0., 0., 0., 0., 0.]])"
      ]
     },
     "execution_count": 309,
     "metadata": {},
     "output_type": "execute_result"
    }
   ],
   "source": [
    "Z"
   ]
  },
  {
   "cell_type": "code",
   "execution_count": 310,
   "id": "63525150",
   "metadata": {},
   "outputs": [
    {
     "name": "stdout",
     "output_type": "stream",
     "text": [
      "[ 0  1  2  3  4  5  6  7  8  9 10 11 12 13 14 15 16 17 18 19 20 21 22 23\n",
      " 24 25 26 27 28 29 30 31]\n"
     ]
    },
    {
     "data": {
      "text/plain": [
       "<matplotlib.collections.QuadMesh at 0x7fa39a2dfb50>"
      ]
     },
     "execution_count": 310,
     "metadata": {},
     "output_type": "execute_result"
    },
    {
     "data": {
      "image/png": "[encoded data removed]",
      "text/plain": [
       "<Figure size 640x480 with 1 Axes>"
      ]
     },
     "metadata": {},
     "output_type": "display_data"
    }
   ],
   "source": [
    "Z = not_use_ace\n",
    "x = np.arange(pol.shape[0])  # \n",
    "print(x)\n",
    "y = np.arange(pol.shape[1])  # \n",
    "\n",
    "fig, ax = plt.subplots()\n",
    "ax.pcolormesh(y, x, Z, shading = \"auto\")"
   ]
  },
  {
   "cell_type": "code",
   "execution_count": 311,
   "id": "153d3637",
   "metadata": {},
   "outputs": [
    {
     "name": "stdout",
     "output_type": "stream",
     "text": [
      "[ 0  1  2  3  4  5  6  7  8  9 10 11 12 13 14 15 16 17 18 19 20 21 22 23\n",
      " 24 25 26 27 28 29 30 31]\n"
     ]
    },
    {
     "data": {
      "text/plain": [
       "<matplotlib.collections.QuadMesh at 0x7fa39a333dc0>"
      ]
     },
     "execution_count": 311,
     "metadata": {},
     "output_type": "execute_result"
    },
    {
     "data": {
      "image/png": "[encoded data removed]",
      "text/plain": [
       "<Figure size 640x480 with 1 Axes>"
      ]
     },
     "metadata": {},
     "output_type": "display_data"
    }
   ],
   "source": [
    "Z1 = usable_ace\n",
    "x = np.arange(pol.shape[0])  # \n",
    "print(x)\n",
    "y = np.arange(pol.shape[1])  # \n",
    "\n",
    "fig, ax = plt.subplots()\n",
    "ax.pcolormesh(y, x, Z1, vmin=np.min(Z), vmax=np.max(Z), shading = \"auto\")"
   ]
  },
  {
   "cell_type": "code",
   "execution_count": 381,
   "id": "cc8aa992",
   "metadata": {},
   "outputs": [
    {
     "name": "stdout",
     "output_type": "stream",
     "text": [
      "total_reward: -40293.0\n",
      "num_wins: 27.015 %\n",
      "num_natural_wins: 0.0 %\n",
      "num loses: 67.308 %\n",
      "num_draws: 5.6770000000000005 %\n",
      "total_played: 100000\n"
     ]
    }
   ],
   "source": [
    "run_episode(env,QLearn_agent)"
   ]
  },
  {
   "cell_type": "code",
   "execution_count": null,
   "id": "89d2b4d9",
   "metadata": {},
   "outputs": [],
   "source": []
  }
 ],
 "metadata": {
  "kernelspec": {
   "display_name": "Python 3 (ipykernel)",
   "language": "python",
   "name": "python3"
  },
  "language_info": {
   "codemirror_mode": {
    "name": "ipython",
    "version": 3
   },
   "file_extension": ".py",
   "mimetype": "text/x-python",
   "name": "python",
   "nbconvert_exporter": "python",
   "pygments_lexer": "ipython3",
   "version": "3.10.9"
  }
 },
 "nbformat": 4,
 "nbformat_minor": 5
}

{
 "cells": [
  {
   "cell_type": "code",
   "execution_count": 3,
   "id": "81c80501",
   "metadata": {},
   "outputs": [],
   "source": [
    "import gymnasium as gym\n",
    "import numpy as np \n",
    "import matplotlib.pyplot as plt"
   ]
  },
  {
   "cell_type": "code",
   "execution_count": 4,
   "id": "043b72c9",
   "metadata": {},
   "outputs": [],
   "source": [
    "env = gym.make(\"Blackjack-v1\", natural = True , sab = False )"
   ]
  },
  {
   "cell_type": "code",
   "execution_count": 12,
   "id": "b1000675",
   "metadata": {},
   "outputs": [
    {
     "data": {
      "text/plain": [
       "Discrete(2)"
      ]
     },
     "execution_count": 12,
     "metadata": {},
     "output_type": "execute_result"
    }
   ],
   "source": [
    "env.action_space\n"
   ]
  },
  {
   "cell_type": "code",
   "execution_count": 52,
   "id": "578dc27d",
   "metadata": {},
   "outputs": [
    {
     "data": {
      "text/plain": [
       "((14, 1, 0), 0.0, False, False, {})"
      ]
     },
     "execution_count": 52,
     "metadata": {},
     "output_type": "execute_result"
    }
   ],
   "source": [
    "env.reset()\n",
    "env.step(1)"
   ]
  },
  {
   "cell_type": "code",
   "execution_count": 53,
   "id": "68c17a9e",
   "metadata": {},
   "outputs": [
    {
     "data": {
      "text/plain": [
       "((14, 1, 0), -1.0, True, False, {})"
      ]
     },
     "execution_count": 53,
     "metadata": {},
     "output_type": "execute_result"
    }
   ],
   "source": [
    "env.step(0)"
   ]
  },
  {
   "cell_type": "code",
   "execution_count": 19,
   "id": "b0bd3502",
   "metadata": {},
   "outputs": [
    {
     "name": "stdout",
     "output_type": "stream",
     "text": [
      "ACTION SPACE:\n",
      " Discrete(2) : HIT or STICK\n",
      "\n",
      "OBSERVATION SPACE:\n",
      " Tuple(Discrete(32), Discrete(11), Discrete(2)) : user_sum, dealer_card, if_usable_ace_of_user\n"
     ]
    }
   ],
   "source": [
    "print(\"ACTION SPACE:\\n\",env.action_space, \": HIT or STICK\\n\")\n",
    "print(\"OBSERVATION SPACE:\\n\",env.observation_space, \": user_sum, dealer_card, if_usable_ace_of_user\")"
   ]
  },
  {
   "cell_type": "markdown",
   "id": "b94b1643",
   "metadata": {},
   "source": [
    "## 2.1 Naı̈ve Policy\n",
    "Implement an agent that carries out the following deterministic policy:\n",
    "\n",
    "• The agent will stick if it gets a score of 20 or 21.\n",
    "\n",
    "• Otherwise, it will hit.\n",
    "\n",
    "Questions:\n",
    "1. Using this agent, simulate 100,000 games and calculate the agent’s return\n",
    "(total accumulated reward).\n",
    "2. Additionally, calculate the % of wins, natural wins, losses and draws.\n",
    "3. Comment on the results."
   ]
  },
  {
   "cell_type": "code",
   "execution_count": 66,
   "id": "b313a18b",
   "metadata": {},
   "outputs": [],
   "source": [
    "class NaiveAgent():\n",
    "    def __init__(self,env):\n",
    "        self.env = env\n",
    "        \n",
    "        \n",
    "    def apply_policy(self,state):\n",
    "        \n",
    "        if state[0] >= 20:\n",
    "            action = 0\n",
    "        else:\n",
    "            action = 1\n",
    "            \n",
    "        return action\n",
    "        "
   ]
  },
  {
   "cell_type": "code",
   "execution_count": 76,
   "id": "68ae1ed0",
   "metadata": {},
   "outputs": [
    {
     "name": "stdout",
     "output_type": "stream",
     "text": [
      "total_reward: -54192.0\n",
      "num_wins: 20.924 %\n",
      "num_natural_wins: 0.0 %\n",
      "num loses: 75.116 %\n",
      "num_draws: 3.9600000000000004 %\n",
      "total_played: 100000\n"
     ]
    }
   ],
   "source": [
    "num_plays = 100000\n",
    "naive_agent = NaiveAgent(env)\n",
    "total_reward = 0 \n",
    "wins = 0\n",
    "natural_wins = 0\n",
    "draws = 0 \n",
    "loses = 0\n",
    "\n",
    "terminated = False\n",
    "truncated = False\n",
    "\n",
    "for ply in range(num_plays):\n",
    "    \n",
    "    env.reset()\n",
    "    action = 1 \n",
    "    \n",
    "    while not terminated or truncated:\n",
    "        new_state, reward, terminated, truncated,_ = env.step(action)\n",
    "        \n",
    "        total_reward += reward\n",
    "        action = naive_agent.apply_policy(new_state)\n",
    "        \n",
    "        if reward == 1:\n",
    "            wins += 1\n",
    "        elif reward == 1.5:\n",
    "            natural_wins += 1\n",
    "        elif reward == -1:\n",
    "            loses += 1\n",
    "        elif reward == 0 and (terminated or truncated):\n",
    "            draws += 1 \n",
    "    terminated = False\n",
    "    truncated = False\n",
    "\n",
    "print(\"total_reward:\", total_reward)\n",
    "print(\"num_wins:\", (wins/num_plays)*100,\"%\")\n",
    "print(\"num_natural_wins:\",(natural_wins/num_plays)*100,\"%\")\n",
    "print(\"num loses:\", (loses/num_plays)*100,\"%\")\n",
    "print(\"num_draws:\", (draws/num_plays)*100,\"%\")\n",
    "print(\"total_played:\", wins+loses+natural_wins + draws)\n",
    "    \n",
    "    \n",
    "    "
   ]
  },
  {
   "cell_type": "code",
   "execution_count": null,
   "id": "bcb058aa",
   "metadata": {},
   "outputs": [],
   "source": []
  },
  {
   "cell_type": "code",
   "execution_count": null,
   "id": "a9ed7249",
   "metadata": {},
   "outputs": [],
   "source": []
  }
 ],
 "metadata": {
  "kernelspec": {
   "display_name": "Python 3 (ipykernel)",
   "language": "python",
   "name": "python3"
  },
  "language_info": {
   "codemirror_mode": {
    "name": "ipython",
    "version": 3
   },
   "file_extension": ".py",
   "mimetype": "text/x-python",
   "name": "python",
   "nbconvert_exporter": "python",
   "pygments_lexer": "ipython3",
   "version": "3.10.9"
  }
 },
 "nbformat": 4,
 "nbformat_minor": 5
}
